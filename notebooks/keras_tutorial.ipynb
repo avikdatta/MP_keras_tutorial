{
 "cells": [
  {
   "cell_type": "markdown",
   "metadata": {},
   "source": [
    "# RSE SkillShare day Keras Tutorial\n",
    "\n",
    "Getting to grips with Keras for predicting binding motifs for DNA or RNA binding proteins.\n",
    "\n",
    "Useful references:\n",
    "\n",
    "[Predicting the sequence specificities of DNA- and RNA-binding proteins by deep learning, Alipanahi et al., 2015](https://www.nature.com/articles/nbt.3300)"
   ]
  },
  {
   "cell_type": "code",
   "execution_count": 1,
   "metadata": {},
   "outputs": [
    {
     "name": "stdout",
     "output_type": "stream",
     "text": [
      "env: KERAS_BACKEND=tensorflow\n"
     ]
    },
    {
     "name": "stderr",
     "output_type": "stream",
     "text": [
      "Using TensorFlow backend.\n"
     ]
    },
    {
     "data": {
      "image/png": "[encoded data removed]",
      "text/plain": [
       "<Figure size 360x72 with 1 Axes>"
      ]
     },
     "metadata": {},
     "output_type": "display_data"
    }
   ],
   "source": [
    "import sys\n",
    "import os\n",
    "from glob import glob\n",
    "import random\n",
    "from collections import Counter\n",
    "from pprint import pprint\n",
    "\n",
    "import numpy as np\n",
    "import pandas as pd\n",
    "from scipy import stats\n",
    "import matplotlib.pyplot as plt\n",
    "from matplotlib.colors import ListedColormap\n",
    "import seaborn as sns\n",
    "\n",
    "import h5py\n",
    "\n",
    "%env KERAS_BACKEND tensorflow\n",
    "import tensorflow as tf\n",
    "from keras import (\n",
    "    models, layers, activations,\n",
    "    optimizers, losses, callbacks\n",
    ")\n",
    "import keras.backend as K\n",
    "\n",
    "from sklearn.metrics import (\n",
    "    roc_curve, precision_recall_curve, roc_auc_score\n",
    ")\n",
    "from sklearn.model_selection import KFold, train_test_split\n",
    "from sklearn.utils import shuffle\n",
    "\n",
    "\n",
    "## Default plotting params\n",
    "\n",
    "%matplotlib inline\n",
    "sns.set(font='Arial')\n",
    "plt.rcParams['svg.fonttype'] = 'none'\n",
    "style = sns.axes_style('white')\n",
    "style.update(sns.axes_style('ticks'))\n",
    "style['xtick.major.size'] = 2\n",
    "style['ytick.major.size'] = 2\n",
    "sns.set(font_scale=2, style=style)\n",
    "pal = sns.color_palette(['#0072b2', '#d55e00', '#009e73', '#f0e442', '#cc79a7'])\n",
    "cmap = ListedColormap(pal.as_hex())\n",
    "sns.set_palette(pal)\n",
    "sns.palplot(pal)\n",
    "plt.show()"
   ]
  },
  {
   "cell_type": "code",
   "execution_count": 2,
   "metadata": {},
   "outputs": [
    {
     "name": "stderr",
     "output_type": "stream",
     "text": [
      "--2019-05-23 17:59:33--  http://hgdownload.cse.ucsc.edu/goldenPath/hg19/encodeDCC/wgEncodeAwgTfbsUniform/wgEncodeAwgTfbsBroadHsmmCtcfUniPk.narrowPeak.gz\n",
      "Resolving hgdownload.cse.ucsc.edu (hgdownload.cse.ucsc.edu)... 128.114.119.163\n",
      "Connecting to hgdownload.cse.ucsc.edu (hgdownload.cse.ucsc.edu)|128.114.119.163|:80... connected.\n",
      "HTTP request sent, awaiting response... 200 OK\n",
      "Length: 1080963 (1.0M) [application/x-gzip]\n",
      "Saving to: ‘STDOUT’\n",
      "\n",
      "     0K .......... .......... .......... .......... ..........  4%  154K 7s\n",
      "    50K .......... .......... .......... .......... ..........  9%  304K 5s\n",
      "   100K .......... .......... .......... .......... .......... 14% 4.57M 3s\n",
      "   150K .......... .......... .......... .......... .......... 18% 1.67M 2s\n",
      "   200K .......... .......... .......... .......... .......... 23%  350K 2s\n",
      "   250K .......... .......... .......... .......... .......... 28% 4.80M 2s\n",
      "   300K .......... .......... .......... .......... .......... 33% 4.78M 1s\n",
      "   350K .......... .......... .......... .......... .......... 37%  380K 1s\n",
      "   400K .......... .......... .......... .......... .......... 42% 1.41M 1s\n",
      "   450K .......... .......... .......... .......... .......... 47% 4.38M 1s\n",
      "   500K .......... .......... .......... .......... .......... 52% 4.49M 1s\n",
      "   550K .......... .......... .......... .......... .......... 56% 4.58M 1s\n",
      "   600K .......... .......... .......... .......... .......... 61%  564K 1s\n",
      "   650K .......... .......... .......... .......... .......... 66%  686K 1s\n",
      "   700K .......... .......... .......... .......... .......... 71% 4.87M 0s\n",
      "   750K .......... .......... .......... .......... .......... 75% 5.19M 0s\n",
      "   800K .......... .......... .......... .......... .......... 80% 5.02M 0s\n",
      "   850K .......... .......... .......... .......... .......... 85%  854K 0s\n",
      "   900K .......... .......... .......... .......... .......... 89%  575K 0s\n",
      "   950K .......... .......... .......... .......... .......... 94% 3.02M 0s\n",
      "  1000K .......... .......... .......... .......... .......... 99% 5.18M 0s\n",
      "  1050K .....                                                 100% 5.35M=1.3s\n",
      "\n",
      "2019-05-23 17:59:35 (841 KB/s) - written to stdout [1080963/1080963]\n",
      "\n"
     ]
    }
   ],
   "source": [
    "%%bash\n",
    "URL=\"http://hgdownload.cse.ucsc.edu/goldenPath/hg19/encodeDCC/wgEncodeAwgTfbsUniform/wgEncodeAwgTfbsBroadHsmmCtcfUniPk.narrowPeak.gz\"\n",
    "wget -O - $URL > ../data/ctcf.narrowPeak.gz"
   ]
  },
  {
   "cell_type": "markdown",
   "metadata": {},
   "source": [
    "We have a ChIP-seq dataset for the DNA binding protein CTCF in a human cell line, taken from the ENCODE Uniform Peaks of Transcription Factor ChIP-seq project. We would like to build a model to predict the binding motif of CTCF in new sequences and interpret what the sequence motif might be. We could use a motif discovery and prediction toolkit such as the MEME suite to do this, but of course we want to be fancy and use neural networks. So, where to start?\n",
    "\n",
    "Data preprocessing is key! First we need to convert our protein binding sites from interval data (narrowPeak format) to sequences. But there are a lot of things to consider....\n",
    "\n",
    "* **What will our negative training examples be?** To train a model we need both positive examples (sequences which are detected in the ChIPseq dataset) and negative examples (???). So what do we use for negative examples? We could randomly shuffle the intervals through the genome and use this to extract negative sequences, but this might give us a biased set if our positive examples are from specific regions of the genome (the human genome is mostly intergenic and these regions have different sequence compositions to intragenic regions). We could control for this in the shuffling, e.g. if our protein binds in open chromatin, we could randomly shuffle our intervals within open chromatin regions... Another solution that is often used is to randomly shuffle the sequences of the positive training set, but keeping the nucleotide and dinuclotide frequencies of each sequence constant. This provides a background set with similar properties to the positive set, but with higher order patterns in the sequences randomised.\n",
    "* **How should we process our input data?** Most machine learning models require uniform features as input, but our ChIPseq peaks are all different lengths! One way to address this could be to extract features such as trinucleotide frequencies from the sequences, but this is lossy and kind of defeats the purpose of using a more complex model like a neural net. Because the narrowPeak format contains a single base \"summit\" which is the middle of the peak, we could also extract a fixed length window centered on this summit.\n",
    "* **How should we encode our input data?** Sequence data is categorical (the categories being A, C, G, or T) but Keras models do not understand categorical input. We can therefore use \"dummy\" variables to encode our sequence as a Nx4 binary matrix.\n",
    "* **Can we augment our input data?** Data augmentation can be useful to artificially inflate the amount of training data and prevent the model from overfitting. Examples of augmentation include rotations, skews or reflections applied to images, or random noise applied to continuous variables. It is harder to augment categorical data, but one thing we can do with the ChIPseq data is apply reverse complementation, as the ChIP peaks are unstranded."
   ]
  },
  {
   "cell_type": "markdown",
   "metadata": {},
   "source": [
    "### Preprocessing:\n",
    "\n",
    "Lets start our training data preprocessing... we already have peaks from the CTCF ChIPseq dataset in narrowpeak format, but are they all the same length...?"
   ]
  },
  {
   "cell_type": "code",
   "execution_count": 4,
   "metadata": {},
   "outputs": [
    {
     "name": "stdout",
     "output_type": "stream",
     "text": [
      "chr8   9688475    9688823    .  1000  .  489.520736189029  -1  4.86944881270321  175\n",
      "chr2   44706566   44706891   .  1000  .  463.303634455582  -1  4.86944881270321  162\n",
      "chr14  50328795   50329107   .  1000  .  457.13622705226   -1  4.86944881270321  150\n",
      "chr3   195577775  195578075  .  1000  .  443.446478457079  -1  4.86944881270321  147\n",
      "chr10  4891878    4892180    .  1000  .  441.230168528308  -1  4.86944881270321  152\n",
      "chr6   53036680   53037004   .  1000  .  435.377539666658  -1  4.86944881270321  168\n",
      "chr12  58299164   58299444   .  1000  .  434.464932543491  -1  4.86944881270321  146\n",
      "chr9   135897772  135898061  .  1000  .  432.489837817086  -1  4.86944881270321  139\n",
      "chr1   150951995  150952284  .  1000  .  423.025977540522  -1  4.86944881270321  148\n",
      "chr17  41560977   41561313   .  1000  .  419.532580168275  -1  4.86944881270321  178\n"
     ]
    }
   ],
   "source": [
    "%%bash\n",
    "zcat ../data/ctcf.narrowPeak.gz |\n",
    "column -t | head"
   ]
  },
  {
   "cell_type": "code",
   "execution_count": 5,
   "metadata": {},
   "outputs": [
    {
     "name": "stdout",
     "output_type": "stream",
     "text": [
      "50924\n"
     ]
    }
   ],
   "source": [
    "%%bash\n",
    "zcat ../data/ctcf.narrowPeak.gz | wc -l"
   ]
  },
  {
   "cell_type": "code",
   "execution_count": 6,
   "metadata": {},
   "outputs": [
    {
     "name": "stdout",
     "output_type": "stream",
     "text": [
      "[(290, 29179),\n",
      " (196, 241),\n",
      " (202, 238),\n",
      " (198, 227),\n",
      " (203, 225),\n",
      " (214, 219),\n",
      " (201, 218),\n",
      " (192, 217),\n",
      " (195, 216),\n",
      " (207, 215)]\n"
     ]
    },
    {
     "data": {
      "image/png": "[encoded data removed]",
      "text/plain": [
       "<matplotlib.figure.Figure at 0x2b11791cc908>"
      ]
     },
     "metadata": {},
     "output_type": "display_data"
    }
   ],
   "source": [
    "peaks = pd.read_csv(\n",
    "    '../data/ctcf.narrowPeak.gz',\n",
    "    sep='\\t',\n",
    "    names=['chrom', 'start', 'end', 'name', 'score', 'strand',\n",
    "           'signal_value', 'p_value', 'q_value', 'summit'],\n",
    "    na_values=['.', '-1']\n",
    ")\n",
    "peaks['peak_length'] = peaks.end - peaks.start\n",
    "pprint(Counter(peaks.peak_length).most_common(10))\n",
    "\n",
    "fig, ax = plt.subplots(figsize=(5, 5))\n",
    "ax.hist(peaks.peak_length, bins=50)\n",
    "plt.show()"
   ]
  },
  {
   "cell_type": "markdown",
   "metadata": {},
   "source": [
    "Most of the peaks seem to be 290 nt long but there are also quite a few shorter ones. Perhaps we should try using a 124 nt window centred on the summit to start with..."
   ]
  },
  {
   "cell_type": "code",
   "execution_count": 7,
   "metadata": {},
   "outputs": [
    {
     "name": "stdout",
     "output_type": "stream",
     "text": [
      "chr1   237690     237818\n",
      "chr1   521520     521648\n",
      "chr1   714187     714315\n",
      "chr1   785888     786016\n",
      "chr1   805233     805361\n",
      "chr1   840078     840206\n",
      "chr1   848334     848462\n",
      "chr1   856515     856643\n",
      "chr1   873625     873753\n",
      "chr1   886894     887022\n"
     ]
    }
   ],
   "source": [
    "%%bash\n",
    "zcat ../data/ctcf.narrowPeak.gz |\n",
    "awk -v OFS='\\t' '{print $1, $2 + $10 - 64, $2 + $10 + 64}' | \\\n",
    "sort -k1,1 -k2,2n > ../data/ctcf_summit_centred_peaks.bed\n",
    "column -t ../data/ctcf_summit_centred_peaks.bed | head"
   ]
  },
  {
   "cell_type": "markdown",
   "metadata": {},
   "source": [
    "Now we can use bedtools to extract the sequences for these intervals from the hg19 genome:"
   ]
  },
  {
   "cell_type": "code",
   "execution_count": 10,
   "metadata": {},
   "outputs": [],
   "source": [
    "%%bash\n",
    "# Also remove any softmasking\n",
    "bedtools getfasta -tab -fi ../data/hg19.fa -fo stdout -bed ../data/ctcf_summit_centred_peaks.bed | \n",
    "tr '[a-z]' '[A-Z]' > ../data/ctcf_summit_centred_seqs.fa"
   ]
  },
  {
   "cell_type": "code",
   "execution_count": 2,
   "metadata": {},
   "outputs": [
    {
     "data": {
      "text/html": [
       "<div>\n",
       "<style scoped>\n",
       "    .dataframe tbody tr th:only-of-type {\n",
       "        vertical-align: middle;\n",
       "    }\n",
       "\n",
       "    .dataframe tbody tr th {\n",
       "        vertical-align: top;\n",
       "    }\n",
       "\n",
       "    .dataframe thead th {\n",
       "        text-align: right;\n",
       "    }\n",
       "</style>\n",
       "<table border=\"1\" class=\"dataframe\">\n",
       "  <thead>\n",
       "    <tr style=\"text-align: right;\">\n",
       "      <th></th>\n",
       "      <th>inv</th>\n",
       "      <th>seq</th>\n",
       "      <th>label</th>\n",
       "    </tr>\n",
       "  </thead>\n",
       "  <tbody>\n",
       "    <tr>\n",
       "      <th>0</th>\n",
       "      <td>CHR1:237690-237818</td>\n",
       "      <td>CCACAGATGTGAAGCTGAGGCTGAAGGAGACTGATGTGGTTTCTCC...</td>\n",
       "      <td>1</td>\n",
       "    </tr>\n",
       "    <tr>\n",
       "      <th>1</th>\n",
       "      <td>CHR1:521520-521648</td>\n",
       "      <td>CAGTTTCTCTGTGCGGCACCAGGTGGCAGCAGAGGTCAGCAAGGCA...</td>\n",
       "      <td>1</td>\n",
       "    </tr>\n",
       "    <tr>\n",
       "      <th>2</th>\n",
       "      <td>CHR1:714187-714315</td>\n",
       "      <td>TACTGGTGGCCGGGCGGGATGTAACCGGCTGCTGAGCTGGCAGTTC...</td>\n",
       "      <td>1</td>\n",
       "    </tr>\n",
       "    <tr>\n",
       "      <th>3</th>\n",
       "      <td>CHR1:785888-786016</td>\n",
       "      <td>ACAAAGTGTCCAAGTGGGATTTTCCTGCTATTTCAAGGACTGCTGC...</td>\n",
       "      <td>1</td>\n",
       "    </tr>\n",
       "    <tr>\n",
       "      <th>4</th>\n",
       "      <td>CHR1:805233-805361</td>\n",
       "      <td>GAAGGAGCTTCGCGCTGCCGCCTGGCTGGGGACTGGGCACGCCCTC...</td>\n",
       "      <td>1</td>\n",
       "    </tr>\n",
       "  </tbody>\n",
       "</table>\n",
       "</div>"
      ],
      "text/plain": [
       "                  inv                                                seq  \\\n",
       "0  CHR1:237690-237818  CCACAGATGTGAAGCTGAGGCTGAAGGAGACTGATGTGGTTTCTCC...   \n",
       "1  CHR1:521520-521648  CAGTTTCTCTGTGCGGCACCAGGTGGCAGCAGAGGTCAGCAAGGCA...   \n",
       "2  CHR1:714187-714315  TACTGGTGGCCGGGCGGGATGTAACCGGCTGCTGAGCTGGCAGTTC...   \n",
       "3  CHR1:785888-786016  ACAAAGTGTCCAAGTGGGATTTTCCTGCTATTTCAAGGACTGCTGC...   \n",
       "4  CHR1:805233-805361  GAAGGAGCTTCGCGCTGCCGCCTGGCTGGGGACTGGGCACGCCCTC...   \n",
       "\n",
       "   label  \n",
       "0      1  \n",
       "1      1  \n",
       "2      1  \n",
       "3      1  \n",
       "4      1  "
      ]
     },
     "execution_count": 2,
     "metadata": {},
     "output_type": "execute_result"
    }
   ],
   "source": [
    "positive_training_examples = pd.read_csv(\n",
    "    '../data/ctcf_summit_centred_seqs.fa',\n",
    "    sep='\\t',\n",
    "    names=['inv', 'seq']\n",
    ")\n",
    "positive_training_examples['label'] = 1\n",
    "positive_training_examples.head()"
   ]
  },
  {
   "cell_type": "markdown",
   "metadata": {},
   "source": [
    "Now we need to create our negative training set, which will be a set of shuffled sequences each with identical dinucleotide frequency to a positive example. To do this we can use a nice tool called ushuffle:"
   ]
  },
  {
   "cell_type": "code",
   "execution_count": 3,
   "metadata": {},
   "outputs": [
    {
     "data": {
      "text/plain": [
       "Counter({'TT': 4,\n",
       "         'TA': 1,\n",
       "         'AC': 2,\n",
       "         'CA': 1,\n",
       "         'CG': 1,\n",
       "         'GT': 1,\n",
       "         'TG': 1,\n",
       "         'GA': 1,\n",
       "         'AT': 1})"
      ]
     },
     "execution_count": 3,
     "metadata": {},
     "output_type": "execute_result"
    }
   ],
   "source": [
    "def kmer_freqs(seq, k=2):\n",
    "    return Counter([seq[i:i+k] for i in range(len(seq) - k + 1)])\n",
    "\n",
    "seq = 'TTTACACGTGATTT'\n",
    "kmer_freqs(seq)"
   ]
  },
  {
   "cell_type": "code",
   "execution_count": 5,
   "metadata": {},
   "outputs": [
    {
     "name": "stdout",
     "output_type": "stream",
     "text": [
      "TTTACACGTGATTT TTTACATGACGTTT\n"
     ]
    }
   ],
   "source": [
    "from ushuffle import shuffle as ushuffle\n",
    "\n",
    "def ushuffle_str(seq, k):\n",
    "    shuf = ushuffle(seq.encode(), k)\n",
    "    return shuf.decode()\n",
    "\n",
    "shuffled = ushuffle_str(seq, 2)\n",
    "print(seq, shuffled)\n",
    "\n",
    "assert kmer_freqs(seq) == kmer_freqs(shuffled)"
   ]
  },
  {
   "cell_type": "code",
   "execution_count": 6,
   "metadata": {},
   "outputs": [
    {
     "data": {
      "text/html": [
       "<div>\n",
       "<style scoped>\n",
       "    .dataframe tbody tr th:only-of-type {\n",
       "        vertical-align: middle;\n",
       "    }\n",
       "\n",
       "    .dataframe tbody tr th {\n",
       "        vertical-align: top;\n",
       "    }\n",
       "\n",
       "    .dataframe thead th {\n",
       "        text-align: right;\n",
       "    }\n",
       "</style>\n",
       "<table border=\"1\" class=\"dataframe\">\n",
       "  <thead>\n",
       "    <tr style=\"text-align: right;\">\n",
       "      <th></th>\n",
       "      <th>inv</th>\n",
       "      <th>seq</th>\n",
       "      <th>label</th>\n",
       "    </tr>\n",
       "  </thead>\n",
       "  <tbody>\n",
       "    <tr>\n",
       "      <th>0</th>\n",
       "      <td>None</td>\n",
       "      <td>CCGGGGGTGCAAGCCAGCCCACAAGCCCTAGGAGCTGAGAAGCGGA...</td>\n",
       "      <td>0</td>\n",
       "    </tr>\n",
       "    <tr>\n",
       "      <th>1</th>\n",
       "      <td>None</td>\n",
       "      <td>CTCAGTGGGGAGCATCGATTGTCGGCCAGGACTTTCTGCAAAGTCT...</td>\n",
       "      <td>0</td>\n",
       "    </tr>\n",
       "    <tr>\n",
       "      <th>2</th>\n",
       "      <td>None</td>\n",
       "      <td>TCACGACCGCAGCGCTAGGGCAACCTTGGGCGCCGCTTGCTATTGC...</td>\n",
       "      <td>0</td>\n",
       "    </tr>\n",
       "    <tr>\n",
       "      <th>3</th>\n",
       "      <td>None</td>\n",
       "      <td>AGTGCTGCACCCAGATTTTTGCTTCCTTCTAGTGACTGTCATCAAG...</td>\n",
       "      <td>0</td>\n",
       "    </tr>\n",
       "    <tr>\n",
       "      <th>4</th>\n",
       "      <td>None</td>\n",
       "      <td>GGGGCCGTGGCGTGGAACCCGAGGCTGCTCCGTGCAGCCAGGCGAG...</td>\n",
       "      <td>0</td>\n",
       "    </tr>\n",
       "  </tbody>\n",
       "</table>\n",
       "</div>"
      ],
      "text/plain": [
       "    inv                                                seq  label\n",
       "0  None  CCGGGGGTGCAAGCCAGCCCACAAGCCCTAGGAGCTGAGAAGCGGA...      0\n",
       "1  None  CTCAGTGGGGAGCATCGATTGTCGGCCAGGACTTTCTGCAAAGTCT...      0\n",
       "2  None  TCACGACCGCAGCGCTAGGGCAACCTTGGGCGCCGCTTGCTATTGC...      0\n",
       "3  None  AGTGCTGCACCCAGATTTTTGCTTCCTTCTAGTGACTGTCATCAAG...      0\n",
       "4  None  GGGGCCGTGGCGTGGAACCCGAGGCTGCTCCGTGCAGCCAGGCGAG...      0"
      ]
     },
     "execution_count": 6,
     "metadata": {},
     "output_type": "execute_result"
    }
   ],
   "source": [
    "negative_training_examples = []\n",
    "for seq in positive_training_examples.seq:\n",
    "    negative_training_examples.append([None, ushuffle_str(seq, 2), 0])\n",
    "negative_training_examples = pd.DataFrame(\n",
    "    negative_training_examples, columns=['inv', 'seq', 'label'])\n",
    "negative_training_examples.head()"
   ]
  },
  {
   "cell_type": "code",
   "execution_count": 7,
   "metadata": {},
   "outputs": [
    {
     "data": {
      "text/html": [
       "<div>\n",
       "<style scoped>\n",
       "    .dataframe tbody tr th:only-of-type {\n",
       "        vertical-align: middle;\n",
       "    }\n",
       "\n",
       "    .dataframe tbody tr th {\n",
       "        vertical-align: top;\n",
       "    }\n",
       "\n",
       "    .dataframe thead th {\n",
       "        text-align: right;\n",
       "    }\n",
       "</style>\n",
       "<table border=\"1\" class=\"dataframe\">\n",
       "  <thead>\n",
       "    <tr style=\"text-align: right;\">\n",
       "      <th></th>\n",
       "      <th>inv</th>\n",
       "      <th>seq</th>\n",
       "      <th>label</th>\n",
       "    </tr>\n",
       "  </thead>\n",
       "  <tbody>\n",
       "    <tr>\n",
       "      <th>38169</th>\n",
       "      <td>CHR5:115911862-115911990</td>\n",
       "      <td>ACCACCTGGAAAAGGTAGGGAGAATGGTAGGAAAAAAAGAAAAAAT...</td>\n",
       "      <td>1</td>\n",
       "    </tr>\n",
       "    <tr>\n",
       "      <th>45175</th>\n",
       "      <td>None</td>\n",
       "      <td>CTGGGGAATCTCACAGTGTTTGGTTAACCCAGCTGGGACATACAGC...</td>\n",
       "      <td>0</td>\n",
       "    </tr>\n",
       "    <tr>\n",
       "      <th>26751</th>\n",
       "      <td>CHR2:180305491-180305619</td>\n",
       "      <td>CTAAAATATTAAGGTCAACAATTTTCAGTTGGATAAACTCAAAGAG...</td>\n",
       "      <td>1</td>\n",
       "    </tr>\n",
       "    <tr>\n",
       "      <th>20551</th>\n",
       "      <td>CHR17:67565287-67565415</td>\n",
       "      <td>GTTTGAATTGGAAAATTTTAATCCAGGTTATAAATCACTTGAGAGA...</td>\n",
       "      <td>1</td>\n",
       "    </tr>\n",
       "    <tr>\n",
       "      <th>32698</th>\n",
       "      <td>None</td>\n",
       "      <td>GCACCCTACGGTTGAGGACACCTCCATTGACCCTCCCACTTGCTCT...</td>\n",
       "      <td>0</td>\n",
       "    </tr>\n",
       "  </tbody>\n",
       "</table>\n",
       "</div>"
      ],
      "text/plain": [
       "                            inv  \\\n",
       "38169  CHR5:115911862-115911990   \n",
       "45175                      None   \n",
       "26751  CHR2:180305491-180305619   \n",
       "20551   CHR17:67565287-67565415   \n",
       "32698                      None   \n",
       "\n",
       "                                                     seq  label  \n",
       "38169  ACCACCTGGAAAAGGTAGGGAGAATGGTAGGAAAAAAAGAAAAAAT...      1  \n",
       "45175  CTGGGGAATCTCACAGTGTTTGGTTAACCCAGCTGGGACATACAGC...      0  \n",
       "26751  CTAAAATATTAAGGTCAACAATTTTCAGTTGGATAAACTCAAAGAG...      1  \n",
       "20551  GTTTGAATTGGAAAATTTTAATCCAGGTTATAAATCACTTGAGAGA...      1  \n",
       "32698  GCACCCTACGGTTGAGGACACCTCCATTGACCCTCCCACTTGCTCT...      0  "
      ]
     },
     "execution_count": 7,
     "metadata": {},
     "output_type": "execute_result"
    }
   ],
   "source": [
    "training_examples = pd.concat(\n",
    "    [negative_training_examples, positive_training_examples]\n",
    ").sample(frac=1)\n",
    "training_examples.head()"
   ]
  },
  {
   "cell_type": "markdown",
   "metadata": {},
   "source": [
    "Ok, now that we have positive and negative training examples, we need to encode them using dummy variables:"
   ]
  },
  {
   "cell_type": "code",
   "execution_count": 8,
   "metadata": {},
   "outputs": [
    {
     "name": "stdout",
     "output_type": "stream",
     "text": [
      "array([[0, 1, 0, 0],\n",
      "       [1, 0, 0, 0],\n",
      "       [0, 1, 0, 0],\n",
      "       [0, 0, 1, 0],\n",
      "       [0, 0, 0, 1],\n",
      "       [0, 0, 1, 0],\n",
      "       [0, 0, 0, 0]])\n"
     ]
    }
   ],
   "source": [
    "SEQ_OHE = {'A': [1, 0, 0, 0],\n",
    "           'C': [0, 1, 0, 0],\n",
    "           'G': [0, 0, 1, 0],\n",
    "           'T': [0, 0, 0, 1],\n",
    "           'N': [0, 0, 0, 0]}\n",
    "\n",
    "\n",
    "def one_hot_sequence(seq):\n",
    "    ohe = []\n",
    "    for base in seq:\n",
    "        try:\n",
    "            ohe.append(SEQ_OHE[base])\n",
    "        except KeyError:\n",
    "            ohe.append(SEQ_OHE['N'])\n",
    "    return np.array(ohe)\n",
    "\n",
    "pprint(one_hot_sequence('CACGTGN'))"
   ]
  },
  {
   "cell_type": "code",
   "execution_count": 29,
   "metadata": {},
   "outputs": [
    {
     "name": "stdout",
     "output_type": "stream",
     "text": [
      "(101848, 128, 4) (101848, 1)\n"
     ]
    }
   ],
   "source": [
    "X_data = np.array([\n",
    "    one_hot_sequence(seq) for seq in training_examples.seq\n",
    "])\n",
    "y_data = training_examples.label.values.astype(np.uint).reshape(-1, 1)\n",
    "\n",
    "print(X_data.shape, y_data.shape)"
   ]
  },
  {
   "cell_type": "markdown",
   "metadata": {},
   "source": [
    "We have training data! When training the model it is important to have a hold out test set which is used to evaluate the performance of the model and make sure it is not overfitting. The best practice would be to split the data a number of times and train multiple models on different splits (cross validation) however in the interest of time we are not going to do this today..."
   ]
  },
  {
   "cell_type": "code",
   "execution_count": 30,
   "metadata": {},
   "outputs": [
    {
     "name": "stdout",
     "output_type": "stream",
     "text": [
      "(76386, 128, 4) (25462, 128, 4)\n"
     ]
    }
   ],
   "source": [
    "# we can use some of the helper functions from sklearn to do our splitting\n",
    "X_train, X_test, y_train, y_test = train_test_split(X_data, y_data, test_size=0.25)\n",
    "print(X_train.shape, X_test.shape)"
   ]
  },
  {
   "cell_type": "markdown",
   "metadata": {},
   "source": [
    "### Training:\n",
    "\n",
    "OK, now lets try fitting some models!\n",
    "\n",
    "Before we start I should quickly point out some of the important terms... The Keras library is layed out nicely in modules using these terms:\n",
    "\n",
    "* `models`: Wrapper classes such as `Sequential` or `Model` are in the `models` module and represent the high level model. Useful methods include `compile`, `fit`, `predict`, and `summary`.\n",
    "* `layers`: A single layer of the neural network. The number of units for the layer can be specificied at instantiation. Layers are stacked by consecutive addition to a `Sequential` model or by being called on the previous layer using the functional API. Not all layers have weights and can be trained. Layer types include:\n",
    "  * `Dense`: A fully connected layer\n",
    "  * `Conv1D` or `Conv2D`: A convolutional layer in one or two dimensions\n",
    "  * `LSTM`: Long short term memory Recurrent layer\n",
    "  * `MaxPooling1D` or `MaxPooling2D`: A downsampling layer using the max function. Has no weights.\n",
    "  * `Flatten`, `Add`, `Concatenate`: Operation layers that alter the shape of a tensor or merge two or more tensors together using a specific function.\n",
    "  * `Dropout`: A \"regularisation\" layer that turns off certain input weights during training. This helps to prevent overfitting.\n",
    "* `activations`: Functions which are applied to the output of a layer. For example:\n",
    "  * `relu`: Rectified Linear Unit, performs max(x, 0) operation. Often used between dense or convolutional layers.\n",
    "  * `sigmoid`: Sigmoid function, squishes input between 0 and 1. Used for final layer in binary classification problems.\n",
    "  * `softmax`: Equivalent of sigmoid for multiclass classification problems, creates a probablity for each class such that the sum of the probabilities is equal to 1.\n",
    "* `losses`: Function which evaluates the performance of the model on the training and validation data. Examples include `binary_crossentropy` (for two-class classification problems), `categorical_crossentropy` (for multi-class classification problems) and `mean_squared_error` (for regression problems).\n",
    "* `optimizers`: Algorithms which update the parameters of the model in order to minimize the output of the loss function on the training data. Examples include `SGD` (Stochastic Gradient Descent), `Adam`, `Adadelta`, and `RMSprop` (look them up!). Most important parameter of these is the learning rate `lr`.\n",
    "* `callbacks`: Utilities which perform some function at the end of each epoch, such as finishing training early if the validation loss has stopped decreasing, or saving a model checkpoint.\n",
    "\n",
    "We can start with a simple multi-layer perceptron (densely connected model). These are not the best for sequence data because they are not position/translation invariant (i.e. if the sequence feature of interest starts at different positions in different training examples it might not be recognised correctly)."
   ]
  },
  {
   "cell_type": "code",
   "execution_count": 31,
   "metadata": {},
   "outputs": [
    {
     "name": "stdout",
     "output_type": "stream",
     "text": [
      "_________________________________________________________________\n",
      "Layer (type)                 Output Shape              Param #   \n",
      "=================================================================\n",
      "dense_19 (Dense)             (None, 128, 128)          640       \n",
      "_________________________________________________________________\n",
      "dense_20 (Dense)             (None, 128, 128)          16512     \n",
      "_________________________________________________________________\n",
      "dense_21 (Dense)             (None, 128, 64)           8256      \n",
      "_________________________________________________________________\n",
      "flatten_3 (Flatten)          (None, 8192)              0         \n",
      "_________________________________________________________________\n",
      "dropout_7 (Dropout)          (None, 8192)              0         \n",
      "_________________________________________________________________\n",
      "dense_22 (Dense)             (None, 32)                262176    \n",
      "_________________________________________________________________\n",
      "dense_23 (Dense)             (None, 1)                 33        \n",
      "=================================================================\n",
      "Total params: 287,617\n",
      "Trainable params: 287,617\n",
      "Non-trainable params: 0\n",
      "_________________________________________________________________\n"
     ]
    }
   ],
   "source": [
    "# Keras has two model building APIs. For simple models where all layers are\n",
    "# stacked consecutively the Sequential API is suitable\n",
    "\n",
    "mlp = models.Sequential()\n",
    "\n",
    "# layers are added to the model and are automatically stacked up sequentially.\n",
    "# The first and last layers are automatically used as the input/output\n",
    "mlp.add(layers.Dense(units=128, activation='relu', input_shape=(128, 4)))\n",
    "mlp.add(layers.Dense(units=128, activation='relu'))\n",
    "mlp.add(layers.Dense(units=64, activation='relu'))\n",
    "mlp.add(layers.Flatten())\n",
    "# we can use a Dropout layer to prevent outfitting during training\n",
    "mlp.add(layers.Dropout(rate=0.5))\n",
    "\n",
    "mlp.add(layers.Dense(32, activation='relu'))\n",
    "mlp.add(layers.Dense(units=1, activation='sigmoid'))\n",
    "\n",
    "mlp.compile(\n",
    "    optimizer='adam', # The algorithm used to fit the model to the data\n",
    "    loss='binary_crossentropy' # How the performance of the model is evaluated\n",
    ")\n",
    "\n",
    "mlp.summary()"
   ]
  },
  {
   "cell_type": "code",
   "execution_count": 32,
   "metadata": {},
   "outputs": [
    {
     "name": "stdout",
     "output_type": "stream",
     "text": [
      "Train on 68747 samples, validate on 7639 samples\n",
      "Epoch 1/100\n",
      " - 14s - loss: 0.6477 - val_loss: 0.6290\n",
      "Epoch 2/100\n",
      " - 13s - loss: 0.6325 - val_loss: 0.6267\n",
      "Epoch 3/100\n",
      " - 13s - loss: 0.6261 - val_loss: 0.6185\n",
      "Epoch 4/100\n",
      " - 13s - loss: 0.6144 - val_loss: 0.6151\n",
      "Epoch 5/100\n",
      " - 13s - loss: 0.5967 - val_loss: 0.5860\n",
      "Epoch 6/100\n",
      " - 13s - loss: 0.5819 - val_loss: 0.5766\n",
      "Epoch 7/100\n",
      " - 13s - loss: 0.5717 - val_loss: 0.5752\n",
      "Epoch 8/100\n",
      " - 13s - loss: 0.5641 - val_loss: 0.5666\n",
      "Epoch 9/100\n",
      " - 13s - loss: 0.5550 - val_loss: 0.5623\n",
      "Epoch 10/100\n",
      " - 14s - loss: 0.5527 - val_loss: 0.5611\n",
      "Epoch 11/100\n",
      " - 14s - loss: 0.5485 - val_loss: 0.5558\n",
      "Epoch 12/100\n",
      " - 14s - loss: 0.5438 - val_loss: 0.5629\n",
      "Epoch 13/100\n",
      " - 14s - loss: 0.5423 - val_loss: 0.5682\n",
      "Epoch 14/100\n",
      " - 14s - loss: 0.5394 - val_loss: 0.5636\n",
      "Epoch 00014: early stopping\n"
     ]
    },
    {
     "data": {
      "text/plain": [
       "<keras.callbacks.History at 0x2b01b44d1be0>"
      ]
     },
     "execution_count": 32,
     "metadata": {},
     "output_type": "execute_result"
    }
   ],
   "source": [
    "es = callbacks.EarlyStopping(min_delta=0.005, patience=3, verbose=1)\n",
    "\n",
    "mlp.fit(\n",
    "    X_train, y_train,\n",
    "    validation_split=0.1, # use 10% of the training data for validation at the end of each epoch\n",
    "    epochs=100, # training is split up into epochs, each training example is used once per epoch\n",
    "    batch_size=128, # epochs are split up into minibatches, this determines batch size\n",
    "                    # smaller batch sizes should converge in fewer epochs, but training is slower (less parallelised)\n",
    "    verbose=2,\n",
    "    callbacks=[es,] # early stopping halts training if validation loss is no longer reducing\n",
    ")"
   ]
  },
  {
   "cell_type": "markdown",
   "metadata": {},
   "source": [
    "We can evaluate the performance of the model on the test data using a Receiver Operator Characteristic curve:"
   ]
  },
  {
   "cell_type": "code",
   "execution_count": 33,
   "metadata": {},
   "outputs": [
    {
     "data": {
      "image/png": "[encoded data removed]",
      "text/plain": [
       "<Figure size 360x360 with 1 Axes>"
      ]
     },
     "metadata": {
      "needs_background": "light"
     },
     "output_type": "display_data"
    }
   ],
   "source": [
    "RESULTS = {}\n",
    "\n",
    "def evaluate_model(model, model_name, X_test, y_test):\n",
    "    y_pred = model.predict(X_test)\n",
    "    # ROC curve function from sklearn.metrics\n",
    "    fpr, tpr, thresh = roc_curve(y_test, y_pred)\n",
    "    auc = roc_auc_score(y_test, y_pred)\n",
    "    RESULTS[model_name] = {\n",
    "        'fpr': fpr, 'tpr': tpr, 'auc': auc, 'model': model\n",
    "    }\n",
    "    \n",
    "    fig, ax = plt.subplots(figsize=(5, 5))\n",
    "    for model_name in RESULTS:\n",
    "        ax.plot(\n",
    "            RESULTS[model_name]['fpr'],\n",
    "            RESULTS[model_name]['tpr'],\n",
    "            label=model_name\n",
    "        )\n",
    "    ax.plot([0, 1], [0, 1], ls='--', color='#252525')\n",
    "    ax.set_xlabel('False Positive Rate')\n",
    "    ax.set_ylabel('True Positive Rate')\n",
    "    ax.legend()\n",
    "    plt.show()\n",
    "\n",
    "evaluate_model(mlp, 'MLP', X_test, y_test)"
   ]
  },
  {
   "cell_type": "markdown",
   "metadata": {},
   "source": [
    "Lets try a recurrent neural network. In terms of the amount of code required RNNs seem very simple! But the Keras implementation is a bit slow on CPU"
   ]
  },
  {
   "cell_type": "code",
   "execution_count": 34,
   "metadata": {},
   "outputs": [
    {
     "name": "stdout",
     "output_type": "stream",
     "text": [
      "_________________________________________________________________\n",
      "Layer (type)                 Output Shape              Param #   \n",
      "=================================================================\n",
      "input_3 (InputLayer)         (None, 128, 4)            0         \n",
      "_________________________________________________________________\n",
      "bidirectional_5 (Bidirection (None, 16)                832       \n",
      "_________________________________________________________________\n",
      "dense_24 (Dense)             (None, 32)                544       \n",
      "_________________________________________________________________\n",
      "dropout_8 (Dropout)          (None, 32)                0         \n",
      "_________________________________________________________________\n",
      "dense_25 (Dense)             (None, 1)                 33        \n",
      "=================================================================\n",
      "Total params: 1,409\n",
      "Trainable params: 1,409\n",
      "Non-trainable params: 0\n",
      "_________________________________________________________________\n"
     ]
    }
   ],
   "source": [
    "# The other Keras model API is functional. Each layer\n",
    "# object is callable. It can be called on another layer\n",
    "# to connect them:\n",
    "\n",
    "input_layer = layers.Input(shape=(128, 4))\n",
    "# Bidirectional wrapper creates two LSTMs that run in opposite directions along the sequence\n",
    "prev = layers.Bidirectional(layers.LSTM(8))(input_layer)\n",
    "prev = layers.Dense(32, activation='relu')(prev)\n",
    "prev = layers.Dropout(rate=0.5)(prev)\n",
    "output_layer = layers.Dense(1, activation='sigmoid')(prev)\n",
    "\n",
    "# Once we have our layers we create a model specifying the\n",
    "# input and the output. If we want a multi-input or \n",
    "# mult-output model we could pass a list of several layers.\n",
    "lstm = models.Model(input_layer, output_layer)\n",
    "\n",
    "lstm.compile(\n",
    "    optimizer=optimizers.RMSprop(lr=1e-3), # RMSprop is generally a better optimiser for RNN\n",
    "    loss='binary_crossentropy'\n",
    ")\n",
    "lstm.build((None, 128, 4))\n",
    "lstm.summary()"
   ]
  },
  {
   "cell_type": "markdown",
   "metadata": {},
   "source": [
    "Note that this model has a lot fewer parameters than the previous densely connected model but because of the more complex LSTM layer should perform just as well or better"
   ]
  },
  {
   "cell_type": "code",
   "execution_count": 35,
   "metadata": {},
   "outputs": [
    {
     "name": "stdout",
     "output_type": "stream",
     "text": [
      "Train on 68747 samples, validate on 7639 samples\n",
      "Epoch 1/100\n",
      " - 104s - loss: 0.6865 - val_loss: 0.6673\n",
      "Epoch 2/100\n",
      " - 101s - loss: 0.6513 - val_loss: 0.6887\n",
      "Epoch 3/100\n",
      " - 101s - loss: 0.6329 - val_loss: 0.6293\n",
      "Epoch 4/100\n",
      " - 101s - loss: 0.6255 - val_loss: 0.6435\n",
      "Epoch 5/100\n",
      " - 100s - loss: 0.6202 - val_loss: 0.6216\n",
      "Epoch 6/100\n",
      " - 99s - loss: 0.6146 - val_loss: 0.6179\n",
      "Epoch 7/100\n",
      " - 99s - loss: 0.6074 - val_loss: 0.6114\n",
      "Epoch 8/100\n",
      " - 99s - loss: 0.6033 - val_loss: 0.6596\n",
      "Epoch 9/100\n",
      " - 99s - loss: 0.5998 - val_loss: 0.5855\n",
      "Epoch 10/100\n",
      " - 99s - loss: 0.5930 - val_loss: 0.6037\n",
      "Epoch 11/100\n",
      " - 99s - loss: 0.5879 - val_loss: 0.5764\n",
      "Epoch 12/100\n",
      " - 99s - loss: 0.5812 - val_loss: 0.6307\n",
      "Epoch 13/100\n",
      " - 99s - loss: 0.5746 - val_loss: 0.5694\n",
      "Epoch 14/100\n",
      " - 99s - loss: 0.5689 - val_loss: 0.5715\n",
      "Epoch 15/100\n",
      " - 99s - loss: 0.5627 - val_loss: 0.5613\n",
      "Epoch 16/100\n",
      " - 99s - loss: 0.5572 - val_loss: 0.5617\n",
      "Epoch 17/100\n",
      " - 99s - loss: 0.5507 - val_loss: 0.5542\n",
      "Epoch 18/100\n",
      " - 99s - loss: 0.5432 - val_loss: 0.5832\n",
      "Epoch 19/100\n",
      " - 99s - loss: 0.5375 - val_loss: 0.5570\n",
      "Epoch 20/100\n",
      " - 99s - loss: 0.5316 - val_loss: 0.5410\n",
      "Epoch 21/100\n",
      " - 99s - loss: 0.5272 - val_loss: 0.5695\n",
      "Epoch 22/100\n",
      " - 99s - loss: 0.5215 - val_loss: 0.5068\n",
      "Epoch 23/100\n",
      " - 98s - loss: 0.5146 - val_loss: 0.5105\n",
      "Epoch 24/100\n",
      " - 98s - loss: 0.5111 - val_loss: 0.5372\n",
      "Epoch 25/100\n",
      " - 98s - loss: 0.5072 - val_loss: 0.5664\n",
      "\n",
      "Epoch 00025: ReduceLROnPlateau reducing learning rate to 0.00010000000474974513.\n",
      "Epoch 26/100\n",
      " - 99s - loss: 0.4862 - val_loss: 0.4825\n",
      "Epoch 27/100\n",
      " - 98s - loss: 0.4828 - val_loss: 0.4807\n",
      "Epoch 28/100\n",
      " - 98s - loss: 0.4813 - val_loss: 0.4828\n",
      "Epoch 29/100\n",
      " - 97s - loss: 0.4801 - val_loss: 0.4811\n",
      "\n",
      "Epoch 00029: ReduceLROnPlateau reducing learning rate to 1.0000000474974514e-05.\n",
      "Epoch 30/100\n",
      " - 99s - loss: 0.4783 - val_loss: 0.4780\n",
      "Epoch 31/100\n",
      " - 98s - loss: 0.4786 - val_loss: 0.4775\n",
      "Epoch 00031: early stopping\n"
     ]
    },
    {
     "data": {
      "text/plain": [
       "<keras.callbacks.History at 0x2b01b41d4b70>"
      ]
     },
     "execution_count": 35,
     "metadata": {},
     "output_type": "execute_result"
    }
   ],
   "source": [
    "es = callbacks.EarlyStopping(min_delta=0.005, patience=5, verbose=1)\n",
    "\n",
    "# Learning rate decay reduces learning rate when the loss function stops going down:\n",
    "lrd = callbacks.ReduceLROnPlateau(\n",
    "    min_delta=0.005, factor=0.1, patience=3, verbose=1)\n",
    "\n",
    "lstm.fit(\n",
    "    X_train, y_train,\n",
    "    validation_split=0.1,\n",
    "    epochs=100,\n",
    "    batch_size=64,\n",
    "    verbose=2,\n",
    "    callbacks=[es, lrd]\n",
    ")"
   ]
  },
  {
   "cell_type": "code",
   "execution_count": 36,
   "metadata": {},
   "outputs": [
    {
     "data": {
      "image/png": "[encoded data removed]",
      "text/plain": [
       "<Figure size 360x360 with 1 Axes>"
      ]
     },
     "metadata": {
      "needs_background": "light"
     },
     "output_type": "display_data"
    }
   ],
   "source": [
    "evaluate_model(lstm, 'LSTM', X_test, y_test)"
   ]
  },
  {
   "cell_type": "markdown",
   "metadata": {},
   "source": [
    "We can also try a mixed convolutional/recurrent architechture. This has been used with some success on biological data [(Quang et al. 2016)](https://www.ncbi.nlm.nih.gov/pubmed/27084946) as it can identify short range features with the conv layers and longer range features with the RNN."
   ]
  },
  {
   "cell_type": "code",
   "execution_count": 40,
   "metadata": {},
   "outputs": [
    {
     "name": "stdout",
     "output_type": "stream",
     "text": [
      "_________________________________________________________________\n",
      "Layer (type)                 Output Shape              Param #   \n",
      "=================================================================\n",
      "conv1d_4 (Conv1D)            (None, 128, 8)            104       \n",
      "_________________________________________________________________\n",
      "conv1d_5 (Conv1D)            (None, 128, 8)            200       \n",
      "_________________________________________________________________\n",
      "max_pooling1d_2 (MaxPooling1 (None, 64, 8)             0         \n",
      "_________________________________________________________________\n",
      "bidirectional_7 (Bidirection (None, 16)                1088      \n",
      "_________________________________________________________________\n",
      "dense_28 (Dense)             (None, 32)                544       \n",
      "_________________________________________________________________\n",
      "dropout_10 (Dropout)         (None, 32)                0         \n",
      "_________________________________________________________________\n",
      "dense_29 (Dense)             (None, 1)                 33        \n",
      "=================================================================\n",
      "Total params: 1,969\n",
      "Trainable params: 1,969\n",
      "Non-trainable params: 0\n",
      "_________________________________________________________________\n"
     ]
    }
   ],
   "source": [
    "conv_lstm = models.Sequential()\n",
    "conv_lstm.add(layers.Conv1D(8, kernel_size=3, padding='same', input_shape=(128, 4)))\n",
    "conv_lstm.add(layers.Conv1D(8, kernel_size=3, padding='same'))\n",
    "conv_lstm.add(layers.MaxPooling1D(pool_size=2)) # Max pooling layer downsamples input by half\n",
    "                                                # using the max function.\n",
    "                                                # sort of equivalent to x.reshape(-1, 2).max(1)\n",
    "conv_lstm.add(\n",
    "    layers.Bidirectional(layers.LSTM(8))\n",
    ")\n",
    "conv_lstm.add(layers.Dense(units=32, activation='relu'))\n",
    "conv_lstm.add(layers.Dropout(rate=0.5))\n",
    "conv_lstm.add(layers.Dense(units=1, activation='sigmoid'))\n",
    "\n",
    "conv_lstm.compile(\n",
    "    optimizer=optimizers.RMSprop(lr=1e-3), # RMSprop is a better optimiser for RNN\n",
    "    loss='binary_crossentropy'\n",
    ")\n",
    "conv_lstm.summary()"
   ]
  },
  {
   "cell_type": "code",
   "execution_count": 41,
   "metadata": {},
   "outputs": [
    {
     "name": "stdout",
     "output_type": "stream",
     "text": [
      "Train on 68747 samples, validate on 7639 samples\n",
      "Epoch 1/100\n",
      " - 56s - loss: 0.6860 - val_loss: 0.6790\n",
      "Epoch 2/100\n",
      " - 54s - loss: 0.6386 - val_loss: 0.5981\n",
      "Epoch 3/100\n",
      " - 54s - loss: 0.5731 - val_loss: 0.5356\n",
      "Epoch 4/100\n",
      " - 54s - loss: 0.5140 - val_loss: 0.5196\n",
      "Epoch 5/100\n",
      " - 54s - loss: 0.4809 - val_loss: 0.4554\n",
      "Epoch 6/100\n",
      " - 54s - loss: 0.4603 - val_loss: 0.4395\n",
      "Epoch 7/100\n",
      " - 54s - loss: 0.4426 - val_loss: 0.4763\n",
      "Epoch 8/100\n",
      " - 54s - loss: 0.4271 - val_loss: 0.4196\n",
      "Epoch 9/100\n",
      " - 54s - loss: 0.4117 - val_loss: 0.4164\n",
      "Epoch 10/100\n",
      " - 54s - loss: 0.3987 - val_loss: 0.4303\n",
      "Epoch 11/100\n",
      " - 54s - loss: 0.3871 - val_loss: 0.4082\n",
      "Epoch 12/100\n",
      " - 54s - loss: 0.3770 - val_loss: 0.3726\n",
      "Epoch 13/100\n",
      " - 54s - loss: 0.3686 - val_loss: 0.3698\n",
      "Epoch 14/100\n",
      " - 54s - loss: 0.3632 - val_loss: 0.4646\n",
      "Epoch 15/100\n",
      " - 54s - loss: 0.3559 - val_loss: 0.4071\n",
      "\n",
      "Epoch 00015: ReduceLROnPlateau reducing learning rate to 0.00010000000474974513.\n",
      "Epoch 16/100\n",
      " - 54s - loss: 0.3382 - val_loss: 0.3569\n",
      "Epoch 17/100\n",
      " - 54s - loss: 0.3360 - val_loss: 0.3404\n",
      "Epoch 18/100\n",
      " - 54s - loss: 0.3341 - val_loss: 0.3420\n",
      "Epoch 19/100\n",
      " - 54s - loss: 0.3325 - val_loss: 0.3393\n",
      "Epoch 20/100\n",
      " - 54s - loss: 0.3314 - val_loss: 0.3390\n",
      "\n",
      "Epoch 00020: ReduceLROnPlateau reducing learning rate to 1.0000000474974514e-05.\n",
      "Epoch 21/100\n",
      " - 54s - loss: 0.3297 - val_loss: 0.3381\n",
      "Epoch 22/100\n",
      " - 54s - loss: 0.3297 - val_loss: 0.3377\n",
      "Epoch 00022: early stopping\n"
     ]
    },
    {
     "data": {
      "text/plain": [
       "<keras.callbacks.History at 0x2b0315a95fd0>"
      ]
     },
     "execution_count": 41,
     "metadata": {},
     "output_type": "execute_result"
    }
   ],
   "source": [
    "es = callbacks.EarlyStopping(min_delta=0.005, patience=5, verbose=1)\n",
    "lrd = callbacks.ReduceLROnPlateau(\n",
    "    min_delta=0.005, factor=0.1, patience=3, verbose=1)\n",
    "\n",
    "conv_lstm.fit(\n",
    "    X_train, y_train,\n",
    "    validation_split=0.1,\n",
    "    epochs=100,\n",
    "    batch_size=64,\n",
    "    verbose=2,\n",
    "    callbacks=[es, lrd]\n",
    ")"
   ]
  },
  {
   "cell_type": "code",
   "execution_count": 42,
   "metadata": {},
   "outputs": [
    {
     "data": {
      "image/png": "[encoded data removed]",
      "text/plain": [
       "<Figure size 360x360 with 1 Axes>"
      ]
     },
     "metadata": {
      "needs_background": "light"
     },
     "output_type": "display_data"
    }
   ],
   "source": [
    "evaluate_model(conv_lstm, 'Conv/LSTM', X_test, y_test)"
   ]
  },
  {
   "cell_type": "markdown",
   "metadata": {},
   "source": [
    "Finally, lets try a few fully convolutional networks. Not only have I found these to perform better on sequence data, they are also quicker to train the RNNs.\n",
    "\n",
    "First lets try a simple sequential CNN:"
   ]
  },
  {
   "cell_type": "code",
   "execution_count": 44,
   "metadata": {},
   "outputs": [
    {
     "name": "stdout",
     "output_type": "stream",
     "text": [
      "_________________________________________________________________\n",
      "Layer (type)                 Output Shape              Param #   \n",
      "=================================================================\n",
      "conv1d_6 (Conv1D)            (None, 128, 8)            104       \n",
      "_________________________________________________________________\n",
      "batch_normalization_1 (Batch (None, 128, 8)            32        \n",
      "_________________________________________________________________\n",
      "conv1d_7 (Conv1D)            (None, 128, 8)            200       \n",
      "_________________________________________________________________\n",
      "batch_normalization_2 (Batch (None, 128, 8)            32        \n",
      "_________________________________________________________________\n",
      "activation_1 (Activation)    (None, 128, 8)            0         \n",
      "_________________________________________________________________\n",
      "max_pooling1d_3 (MaxPooling1 (None, 64, 8)             0         \n",
      "_________________________________________________________________\n",
      "conv1d_8 (Conv1D)            (None, 64, 8)             200       \n",
      "_________________________________________________________________\n",
      "batch_normalization_3 (Batch (None, 64, 8)             32        \n",
      "_________________________________________________________________\n",
      "conv1d_9 (Conv1D)            (None, 64, 8)             200       \n",
      "_________________________________________________________________\n",
      "batch_normalization_4 (Batch (None, 64, 8)             32        \n",
      "_________________________________________________________________\n",
      "activation_2 (Activation)    (None, 64, 8)             0         \n",
      "_________________________________________________________________\n",
      "max_pooling1d_4 (MaxPooling1 (None, 32, 8)             0         \n",
      "_________________________________________________________________\n",
      "conv1d_10 (Conv1D)           (None, 32, 8)             200       \n",
      "_________________________________________________________________\n",
      "batch_normalization_5 (Batch (None, 32, 8)             32        \n",
      "_________________________________________________________________\n",
      "conv1d_11 (Conv1D)           (None, 32, 8)             200       \n",
      "_________________________________________________________________\n",
      "batch_normalization_6 (Batch (None, 32, 8)             32        \n",
      "_________________________________________________________________\n",
      "activation_3 (Activation)    (None, 32, 8)             0         \n",
      "_________________________________________________________________\n",
      "max_pooling1d_5 (MaxPooling1 (None, 16, 8)             0         \n",
      "_________________________________________________________________\n",
      "flatten_4 (Flatten)          (None, 128)               0         \n",
      "_________________________________________________________________\n",
      "dense_30 (Dense)             (None, 32)                4128      \n",
      "_________________________________________________________________\n",
      "dropout_11 (Dropout)         (None, 32)                0         \n",
      "_________________________________________________________________\n",
      "dense_31 (Dense)             (None, 1)                 33        \n",
      "=================================================================\n",
      "Total params: 5,457\n",
      "Trainable params: 5,361\n",
      "Non-trainable params: 96\n",
      "_________________________________________________________________\n"
     ]
    }
   ],
   "source": [
    "cnn = models.Sequential()\n",
    "for _ in range(3):\n",
    "    cnn.add(layers.Conv1D(8, kernel_size=3, padding='same'))\n",
    "    cnn.add(layers.BatchNormalization()) # this is a normalisation layer than scales mean \n",
    "                                           # of each batch to ~0 and stdev to ~1\n",
    "    cnn.add(layers.Conv1D(8, kernel_size=3, padding='same'))\n",
    "    cnn.add(layers.BatchNormalization())\n",
    "    cnn.add(layers.Activation('relu')) # Activation function which is equivalent to max(x, 0)\n",
    "    cnn.add(layers.MaxPooling1D(pool_size=2))\n",
    "\n",
    "cnn.add(layers.Flatten())\n",
    "\n",
    "cnn.add(layers.Dense(units=32, activation='relu'))\n",
    "cnn.add(layers.Dropout(rate=0.5))\n",
    "cnn.add(layers.Dense(units=1, activation='sigmoid'))\n",
    "\n",
    "cnn.compile(\n",
    "    optimizer=optimizers.Adam(lr=1e-3),\n",
    "    loss='binary_crossentropy'\n",
    ")\n",
    "cnn.build((None, 128, 4))\n",
    "cnn.summary()"
   ]
  },
  {
   "cell_type": "code",
   "execution_count": 45,
   "metadata": {},
   "outputs": [
    {
     "name": "stdout",
     "output_type": "stream",
     "text": [
      "Train on 68747 samples, validate on 7639 samples\n",
      "Epoch 1/100\n",
      " - 18s - loss: 0.5868 - val_loss: 0.4655\n",
      "Epoch 2/100\n",
      " - 16s - loss: 0.4350 - val_loss: 0.3935\n",
      "Epoch 3/100\n",
      " - 15s - loss: 0.3912 - val_loss: 0.4075\n",
      "Epoch 4/100\n",
      " - 15s - loss: 0.3662 - val_loss: 0.3483\n",
      "Epoch 5/100\n",
      " - 15s - loss: 0.3508 - val_loss: 0.3331\n",
      "Epoch 6/100\n",
      " - 15s - loss: 0.3405 - val_loss: 0.3221\n",
      "Epoch 7/100\n",
      " - 15s - loss: 0.3326 - val_loss: 0.3266\n",
      "Epoch 8/100\n",
      " - 15s - loss: 0.3264 - val_loss: 0.3226\n",
      "Epoch 9/100\n",
      " - 15s - loss: 0.3199 - val_loss: 0.3132\n",
      "Epoch 10/100\n",
      " - 15s - loss: 0.3161 - val_loss: 0.3100\n",
      "Epoch 11/100\n",
      " - 15s - loss: 0.3131 - val_loss: 0.3077\n",
      "Epoch 12/100\n",
      " - 16s - loss: 0.3089 - val_loss: 0.3022\n",
      "Epoch 13/100\n",
      " - 16s - loss: 0.3062 - val_loss: 0.3076\n",
      "Epoch 14/100\n",
      " - 16s - loss: 0.3027 - val_loss: 0.3151\n",
      "Epoch 15/100\n",
      " - 16s - loss: 0.2984 - val_loss: 0.2946\n",
      "Epoch 16/100\n",
      " - 16s - loss: 0.2980 - val_loss: 0.3114\n",
      "Epoch 17/100\n",
      " - 16s - loss: 0.2950 - val_loss: 0.3149\n",
      "Epoch 18/100\n",
      " - 16s - loss: 0.2927 - val_loss: 0.3045\n",
      "\n",
      "Epoch 00018: ReduceLROnPlateau reducing learning rate to 0.00010000000474974513.\n",
      "Epoch 19/100\n",
      " - 16s - loss: 0.2805 - val_loss: 0.2878\n",
      "Epoch 20/100\n",
      " - 16s - loss: 0.2796 - val_loss: 0.2862\n",
      "Epoch 21/100\n",
      " - 16s - loss: 0.2790 - val_loss: 0.2860\n",
      "Epoch 22/100\n",
      " - 16s - loss: 0.2790 - val_loss: 0.2864\n",
      "\n",
      "Epoch 00022: ReduceLROnPlateau reducing learning rate to 1.0000000474974514e-05.\n",
      "Epoch 23/100\n",
      " - 16s - loss: 0.2773 - val_loss: 0.2855\n",
      "Epoch 24/100\n",
      " - 15s - loss: 0.2758 - val_loss: 0.2855\n",
      "Epoch 00024: early stopping\n"
     ]
    },
    {
     "data": {
      "text/plain": [
       "<keras.callbacks.History at 0x2b03418d4390>"
      ]
     },
     "execution_count": 45,
     "metadata": {},
     "output_type": "execute_result"
    }
   ],
   "source": [
    "es = callbacks.EarlyStopping(min_delta=0.005, patience=5, verbose=1)\n",
    "lrd = callbacks.ReduceLROnPlateau(\n",
    "    min_delta=0.005, factor=0.1, patience=3, verbose=1)\n",
    "\n",
    "cnn.fit(\n",
    "    X_train, y_train,\n",
    "    validation_split=0.1,\n",
    "    epochs=100,\n",
    "    batch_size=64,\n",
    "    verbose=2,\n",
    "    callbacks=[es, lrd]\n",
    ")"
   ]
  },
  {
   "cell_type": "code",
   "execution_count": 46,
   "metadata": {},
   "outputs": [
    {
     "data": {
      "image/png": "[encoded data removed]",
      "text/plain": [
       "<Figure size 360x360 with 1 Axes>"
      ]
     },
     "metadata": {
      "needs_background": "light"
     },
     "output_type": "display_data"
    }
   ],
   "source": [
    "evaluate_model(cnn, 'Conv', X_test, y_test)"
   ]
  },
  {
   "cell_type": "markdown",
   "metadata": {},
   "source": [
    "Finally we can try a more complicated network using the Keras functional API. This is a \"deep residual\" network made up of residual blocks. The residual blocks contain shortcut layers that allow the network to skip layers and pass information from the input into lower layers of the network without too much modification:"
   ]
  },
  {
   "cell_type": "code",
   "execution_count": 48,
   "metadata": {},
   "outputs": [
    {
     "name": "stdout",
     "output_type": "stream",
     "text": [
      "__________________________________________________________________________________________________\n",
      "Layer (type)                    Output Shape         Param #     Connected to                     \n",
      "==================================================================================================\n",
      "input_5 (InputLayer)            (None, 128, 4)       0                                            \n",
      "__________________________________________________________________________________________________\n",
      "conv1d_24 (Conv1D)              (None, 128, 8)       168         input_5[0][0]                    \n",
      "__________________________________________________________________________________________________\n",
      "batch_normalization_19 (BatchNo (None, 128, 8)       32          conv1d_24[0][0]                  \n",
      "__________________________________________________________________________________________________\n",
      "activation_12 (Activation)      (None, 128, 8)       0           batch_normalization_19[0][0]     \n",
      "__________________________________________________________________________________________________\n",
      "conv1d_26 (Conv1D)              (None, 128, 8)       40          input_5[0][0]                    \n",
      "__________________________________________________________________________________________________\n",
      "conv1d_25 (Conv1D)              (None, 128, 8)       328         activation_12[0][0]              \n",
      "__________________________________________________________________________________________________\n",
      "batch_normalization_21 (BatchNo (None, 128, 8)       32          conv1d_26[0][0]                  \n",
      "__________________________________________________________________________________________________\n",
      "batch_normalization_20 (BatchNo (None, 128, 8)       32          conv1d_25[0][0]                  \n",
      "__________________________________________________________________________________________________\n",
      "add_5 (Add)                     (None, 128, 8)       0           batch_normalization_21[0][0]     \n",
      "                                                                 batch_normalization_20[0][0]     \n",
      "__________________________________________________________________________________________________\n",
      "activation_13 (Activation)      (None, 128, 8)       0           add_5[0][0]                      \n",
      "__________________________________________________________________________________________________\n",
      "max_pooling1d_9 (MaxPooling1D)  (None, 64, 8)        0           activation_13[0][0]              \n",
      "__________________________________________________________________________________________________\n",
      "conv1d_27 (Conv1D)              (None, 64, 8)        328         max_pooling1d_9[0][0]            \n",
      "__________________________________________________________________________________________________\n",
      "batch_normalization_22 (BatchNo (None, 64, 8)        32          conv1d_27[0][0]                  \n",
      "__________________________________________________________________________________________________\n",
      "activation_14 (Activation)      (None, 64, 8)        0           batch_normalization_22[0][0]     \n",
      "__________________________________________________________________________________________________\n",
      "conv1d_29 (Conv1D)              (None, 64, 8)        72          max_pooling1d_9[0][0]            \n",
      "__________________________________________________________________________________________________\n",
      "conv1d_28 (Conv1D)              (None, 64, 8)        328         activation_14[0][0]              \n",
      "__________________________________________________________________________________________________\n",
      "batch_normalization_24 (BatchNo (None, 64, 8)        32          conv1d_29[0][0]                  \n",
      "__________________________________________________________________________________________________\n",
      "batch_normalization_23 (BatchNo (None, 64, 8)        32          conv1d_28[0][0]                  \n",
      "__________________________________________________________________________________________________\n",
      "add_6 (Add)                     (None, 64, 8)        0           batch_normalization_24[0][0]     \n",
      "                                                                 batch_normalization_23[0][0]     \n",
      "__________________________________________________________________________________________________\n",
      "activation_15 (Activation)      (None, 64, 8)        0           add_6[0][0]                      \n",
      "__________________________________________________________________________________________________\n",
      "max_pooling1d_10 (MaxPooling1D) (None, 32, 8)        0           activation_15[0][0]              \n",
      "__________________________________________________________________________________________________\n",
      "conv1d_30 (Conv1D)              (None, 32, 8)        328         max_pooling1d_10[0][0]           \n",
      "__________________________________________________________________________________________________\n",
      "batch_normalization_25 (BatchNo (None, 32, 8)        32          conv1d_30[0][0]                  \n",
      "__________________________________________________________________________________________________\n",
      "activation_16 (Activation)      (None, 32, 8)        0           batch_normalization_25[0][0]     \n",
      "__________________________________________________________________________________________________\n",
      "conv1d_32 (Conv1D)              (None, 32, 8)        72          max_pooling1d_10[0][0]           \n",
      "__________________________________________________________________________________________________\n",
      "conv1d_31 (Conv1D)              (None, 32, 8)        328         activation_16[0][0]              \n",
      "__________________________________________________________________________________________________\n",
      "batch_normalization_27 (BatchNo (None, 32, 8)        32          conv1d_32[0][0]                  \n",
      "__________________________________________________________________________________________________\n",
      "batch_normalization_26 (BatchNo (None, 32, 8)        32          conv1d_31[0][0]                  \n",
      "__________________________________________________________________________________________________\n",
      "add_7 (Add)                     (None, 32, 8)        0           batch_normalization_27[0][0]     \n",
      "                                                                 batch_normalization_26[0][0]     \n",
      "__________________________________________________________________________________________________\n",
      "activation_17 (Activation)      (None, 32, 8)        0           add_7[0][0]                      \n",
      "__________________________________________________________________________________________________\n",
      "max_pooling1d_11 (MaxPooling1D) (None, 16, 8)        0           activation_17[0][0]              \n",
      "__________________________________________________________________________________________________\n",
      "conv1d_33 (Conv1D)              (None, 16, 8)        328         max_pooling1d_11[0][0]           \n",
      "__________________________________________________________________________________________________\n",
      "batch_normalization_28 (BatchNo (None, 16, 8)        32          conv1d_33[0][0]                  \n",
      "__________________________________________________________________________________________________\n",
      "activation_18 (Activation)      (None, 16, 8)        0           batch_normalization_28[0][0]     \n",
      "__________________________________________________________________________________________________\n",
      "conv1d_35 (Conv1D)              (None, 16, 8)        72          max_pooling1d_11[0][0]           \n",
      "__________________________________________________________________________________________________\n",
      "conv1d_34 (Conv1D)              (None, 16, 8)        328         activation_18[0][0]              \n",
      "__________________________________________________________________________________________________\n",
      "batch_normalization_30 (BatchNo (None, 16, 8)        32          conv1d_35[0][0]                  \n",
      "__________________________________________________________________________________________________\n",
      "batch_normalization_29 (BatchNo (None, 16, 8)        32          conv1d_34[0][0]                  \n",
      "__________________________________________________________________________________________________\n",
      "add_8 (Add)                     (None, 16, 8)        0           batch_normalization_30[0][0]     \n",
      "                                                                 batch_normalization_29[0][0]     \n",
      "__________________________________________________________________________________________________\n",
      "activation_19 (Activation)      (None, 16, 8)        0           add_8[0][0]                      \n",
      "__________________________________________________________________________________________________\n",
      "flatten_6 (Flatten)             (None, 128)          0           activation_19[0][0]              \n",
      "__________________________________________________________________________________________________\n",
      "dense_33 (Dense)                (None, 16)           2064        flatten_6[0][0]                  \n",
      "__________________________________________________________________________________________________\n",
      "dropout_13 (Dropout)            (None, 16)           0           dense_33[0][0]                   \n",
      "__________________________________________________________________________________________________\n",
      "binary_output (Dense)           (None, 1)            17          dropout_13[0][0]                 \n",
      "==================================================================================================\n",
      "Total params: 5,185\n",
      "Trainable params: 4,993\n",
      "Non-trainable params: 192\n",
      "__________________________________________________________________________________________________\n"
     ]
    }
   ],
   "source": [
    "def residual_block(prev, num_channels, conv_type=None):\n",
    "    # save a reference to the first layer so we can\n",
    "    # create the shortcut...\n",
    "    shortcut = prev\n",
    "\n",
    "    # Perform two convolutions with a kernel size of 5\n",
    "    prev = layers.Conv1D(num_channels,\n",
    "                         kernel_size=5,\n",
    "                         padding='same')(prev)\n",
    "    prev = layers.BatchNormalization()(prev)\n",
    "    prev = layers.Activation('relu')(prev)\n",
    "\n",
    "    prev = layers.Conv1D(num_channels,\n",
    "                         kernel_size=5,\n",
    "                         padding='same')(prev)\n",
    "    prev = layers.BatchNormalization()(prev)\n",
    "\n",
    "    # This is the skip connection/shortcut layer which is\n",
    "    # called on the first layer rather than the previous one\n",
    "    shortcut = layers.Conv1D(num_channels,\n",
    "                             kernel_size=1,\n",
    "                             padding='same')(shortcut)\n",
    "    shortcut = layers.BatchNormalization()(shortcut)\n",
    "\n",
    "    # We can then merge the convolutions with the shortcut\n",
    "    prev = layers.add([shortcut, prev])\n",
    "    prev = layers.Activation('relu')(prev)\n",
    "    return prev\n",
    "\n",
    "\n",
    "def stack_convs(prev, num_channels, min_shape):\n",
    "    convs = []\n",
    "    while True:\n",
    "        prev = residual_block(prev, num_channels)\n",
    "        # stop stacking once layers have been downsampled so that the\n",
    "        # tensor is only min_shape size in the spatial dimension \n",
    "        curr_shape = prev.shape.as_list()[1]\n",
    "        if curr_shape <= min_shape:\n",
    "            break\n",
    "        convs.append(prev)\n",
    "        prev = layers.MaxPool1D(2, padding='same')(prev)\n",
    "    return prev\n",
    "\n",
    "\n",
    "def build_resnet():\n",
    "    # Functional API requires you to specify an input tensor and an output tensor\n",
    "    # which \n",
    "    input_layer = layers.Input(shape=(128, 4))\n",
    "    prev = stack_convs(input_layer, num_channels=8, min_shape=16)\n",
    "    prev = layers.Flatten()(prev)\n",
    "    prev = layers.Dense(16, activation='relu')(prev)\n",
    "    prev = layers.Dropout(0.5)(prev)\n",
    "    output_layer = layers.Dense(\n",
    "        1, activation='sigmoid', name='binary_output')(prev)\n",
    "\n",
    "    model = models.Model(input_layer, output_layer)\n",
    "    model.compile(\n",
    "        optimizer=optimizers.RMSprop(lr=1e-3),\n",
    "        loss='binary_crossentropy'\n",
    "    )\n",
    "    return model\n",
    "\n",
    "resnet = build_resnet()\n",
    "resnet.summary()"
   ]
  },
  {
   "cell_type": "code",
   "execution_count": 49,
   "metadata": {},
   "outputs": [
    {
     "name": "stdout",
     "output_type": "stream",
     "text": [
      "Train on 68747 samples, validate on 7639 samples\n",
      "Epoch 1/100\n",
      " - 22s - loss: 0.6276 - val_loss: 0.4283\n",
      "Epoch 2/100\n",
      " - 18s - loss: 0.3794 - val_loss: 0.3144\n",
      "Epoch 3/100\n",
      " - 19s - loss: 0.3199 - val_loss: 0.3949\n",
      "Epoch 4/100\n",
      " - 19s - loss: 0.2892 - val_loss: 0.2536\n",
      "Epoch 5/100\n",
      " - 19s - loss: 0.2691 - val_loss: 0.2443\n",
      "Epoch 6/100\n",
      " - 18s - loss: 0.2605 - val_loss: 0.2473\n",
      "Epoch 7/100\n",
      " - 17s - loss: 0.2533 - val_loss: 0.2373\n",
      "Epoch 8/100\n",
      " - 18s - loss: 0.2468 - val_loss: 0.3000\n",
      "Epoch 9/100\n",
      " - 19s - loss: 0.2428 - val_loss: 0.2637\n",
      "Epoch 10/100\n",
      " - 17s - loss: 0.2402 - val_loss: 0.2903\n",
      "\n",
      "Epoch 00010: ReduceLROnPlateau reducing learning rate to 0.00010000000474974513.\n",
      "Epoch 11/100\n",
      " - 18s - loss: 0.2241 - val_loss: 0.2270\n",
      "Epoch 12/100\n",
      " - 18s - loss: 0.2199 - val_loss: 0.2282\n",
      "Epoch 13/100\n",
      " - 19s - loss: 0.2202 - val_loss: 0.2261\n",
      "Epoch 14/100\n",
      " - 18s - loss: 0.2187 - val_loss: 0.2257\n",
      "\n",
      "Epoch 00014: ReduceLROnPlateau reducing learning rate to 1.0000000474974514e-05.\n",
      "Epoch 15/100\n",
      " - 17s - loss: 0.2164 - val_loss: 0.2269\n",
      "Epoch 16/100\n",
      " - 18s - loss: 0.2166 - val_loss: 0.2267\n",
      "Epoch 00016: early stopping\n"
     ]
    },
    {
     "data": {
      "text/plain": [
       "<keras.callbacks.History at 0x2b03438ddef0>"
      ]
     },
     "execution_count": 49,
     "metadata": {},
     "output_type": "execute_result"
    }
   ],
   "source": [
    "es = callbacks.EarlyStopping(min_delta=0.005, patience=5, verbose=1)\n",
    "lrd = callbacks.ReduceLROnPlateau(\n",
    "    min_delta=0.005, factor=0.1, patience=3, verbose=1)\n",
    "\n",
    "resnet.fit(\n",
    "    X_train, y_train,\n",
    "    validation_split=0.1,\n",
    "    epochs=100,\n",
    "    batch_size=64,\n",
    "    verbose=2,\n",
    "    callbacks=[es, lrd]\n",
    ")"
   ]
  },
  {
   "cell_type": "code",
   "execution_count": 50,
   "metadata": {},
   "outputs": [
    {
     "data": {
      "image/png": "[encoded data removed]",
      "text/plain": [
       "<Figure size 360x360 with 1 Axes>"
      ]
     },
     "metadata": {
      "needs_background": "light"
     },
     "output_type": "display_data"
    }
   ],
   "source": [
    "evaluate_model(resnet, 'ResNet', X_test, y_test)"
   ]
  },
  {
   "cell_type": "code",
   "execution_count": null,
   "metadata": {},
   "outputs": [],
   "source": []
  }
 ],
 "metadata": {
  "kernelspec": {
   "display_name": "Python [conda env:keras_tutorial]",
   "language": "python",
   "name": "conda-env-keras_tutorial-py"
  },
  "language_info": {
   "codemirror_mode": {
    "name": "ipython",
    "version": 3
   },
   "file_extension": ".py",
   "mimetype": "text/x-python",
   "name": "python",
   "nbconvert_exporter": "python",
   "pygments_lexer": "ipython3",
   "version": "3.6.7"
  }
 },
 "nbformat": 4,
 "nbformat_minor": 2
}
